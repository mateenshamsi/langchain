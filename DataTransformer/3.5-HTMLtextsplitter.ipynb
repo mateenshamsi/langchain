{
 "cells": [
  {
   "cell_type": "markdown",
   "id": "b9089e8c",
   "metadata": {},
   "source": [
    "How to split by HTML Header \n",
    "\n",
    "HTMLHeader Text Splitter is a \"structured-aware\" chunker that splits text at the HTML element level and adds metadata for each header \"relevant\" to any given chunk. It can return chunks element by element or combine elements with the same metadata with the objectives of \n",
    "(a) keeping related text grouped(more or less) semantically \n",
    "(b) preserving context-rich information encoded in document structures.It can be used with other text splitters as part of a chucking pipeline \n"
   ]
  },
  {
   "cell_type": "code",
   "execution_count": 2,
   "id": "5a053595",
   "metadata": {},
   "outputs": [
    {
     "data": {
      "text/plain": [
       "[Document(metadata={'Header1': 'Foo'}, page_content='Foo'),\n",
       " Document(metadata={'Header1': 'Foo'}, page_content='Info about Foo'),\n",
       " Document(metadata={'Header1': 'Foo', 'Header2': 'Bar main section'}, page_content='Bar main section'),\n",
       " Document(metadata={'Header1': 'Foo', 'Header2': 'Bar sub section'}, page_content='Bar sub section'),\n",
       " Document(metadata={'Header1': 'Foo', 'Header2': 'Bar sub section'}, page_content='Info about Bar'),\n",
       " Document(metadata={'Header1': 'Foo', 'Header2': 'Bar sub section', 'Header3': 'Bar sub sub section'}, page_content='Bar sub sub section')]"
      ]
     },
     "execution_count": 2,
     "metadata": {},
     "output_type": "execute_result"
    }
   ],
   "source": [
    "from langchain_text_splitters import HTMLHeaderTextSplitter\n",
    "html_string=\"\"\"\n",
    "<!DOCTYPE html>\n",
    "<html lang=\"en\">\n",
    "<head>\n",
    "    <meta charset=\"UTF-8\">\n",
    "    <meta name=\"viewport\" content=\"width=device-width, initial-scale=1.0\">\n",
    "    <title>Document</title>\n",
    "</head>\n",
    "<body>\n",
    "    <h1>Foo</h1>\n",
    "    <p>Info about Foo</p>\n",
    "    <div>\n",
    "    <h2>Bar main section</h2>\n",
    "    <h2>Bar sub section</h2>\n",
    "    <p>Info about Bar</p>\n",
    "    <h3>Bar sub sub section</h3>\n",
    "</body>\n",
    "</html>\n",
    "\n",
    "\"\"\"\n",
    "\n",
    "\n",
    "headers_to_split = [(\"h1\",\"Header1\"), (\"h2\",\"Header2\"), (\"h3\",\"Header3\")]\n",
    "html_splitter = HTMLHeaderTextSplitter(headers_to_split)\n",
    "html_splitter_splits = html_splitter.split_text(html_string)\n",
    "html_splitter_splits \n",
    "\n"
   ]
  }
 ],
 "metadata": {
  "kernelspec": {
   "display_name": "Python 3",
   "language": "python",
   "name": "python3"
  },
  "language_info": {
   "codemirror_mode": {
    "name": "ipython",
    "version": 3
   },
   "file_extension": ".py",
   "mimetype": "text/x-python",
   "name": "python",
   "nbconvert_exporter": "python",
   "pygments_lexer": "ipython3",
   "version": "3.10.18"
  }
 },
 "nbformat": 4,
 "nbformat_minor": 5
}
