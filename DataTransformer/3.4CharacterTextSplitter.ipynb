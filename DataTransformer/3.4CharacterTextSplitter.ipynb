{
 "cells": [
  {
   "cell_type": "code",
   "execution_count": 2,
   "id": "2715345f",
   "metadata": {},
   "outputs": [
    {
     "data": {
      "text/plain": [
       "[Document(metadata={'source': 'speech.txt'}, page_content='Artificial intelligence (AI) has rapidly transformed the way we interact with technology and information. From virtual assistants to recommendation systems, AI is now an integral part of our daily lives. One of the most significant advancements in AI is natural language processing (NLP), which enables machines to understand and generate human language. This technology powers chatbots, translation services, and even voice recognition software. As AI continues to evolve, its applications are expanding into fields such as healthcare, finance, and education. For example, AI-driven diagnostic tools can help doctors identify diseases more accurately, while personalized learning platforms can adapt to individual student needs. Despite these benefits, there are also concerns about privacy, job displacement, and ethical considerations. It is important for society to address these challenges while embracing the opportunities that AI presents. By fostering collaboration between technologists, policymakers, and the public, we can ensure that AI is developed responsibly and benefits everyone.')]"
      ]
     },
     "execution_count": 2,
     "metadata": {},
     "output_type": "execute_result"
    }
   ],
   "source": [
    "from langchain_community.document_loaders import TextLoader\n",
    "loader=TextLoader('speech.txt')\n",
    "docs=loader.load()\n",
    "docs"
   ]
  },
  {
   "cell_type": "code",
   "execution_count": 3,
   "id": "99c78d65",
   "metadata": {},
   "outputs": [
    {
     "data": {
      "text/plain": [
       "[Document(metadata={'source': 'speech.txt'}, page_content='Artificial intelligence (AI) has rapidly transformed the way we interact with technology and information. From virtual assistants to recommendation systems, AI is now an integral part of our daily lives. One of the most significant advancements in AI is natural language processing (NLP), which enables machines to understand and generate human language. This technology powers chatbots, translation services, and even voice recognition software. As AI continues to evolve, its applications are expanding into fields such as healthcare, finance, and education. For example, AI-driven diagnostic tools can help doctors identify diseases more accurately, while personalized learning platforms can adapt to individual student needs. Despite these benefits, there are also concerns about privacy, job displacement, and ethical considerations. It is important for society to address these challenges while embracing the opportunities that AI presents. By fostering collaboration between technologists, policymakers, and the public, we can ensure that AI is developed responsibly and benefits everyone.')]"
      ]
     },
     "execution_count": 3,
     "metadata": {},
     "output_type": "execute_result"
    }
   ],
   "source": [
    "from langchain_text_splitters import CharacterTextSplitter\n",
    "text_splitter = CharacterTextSplitter(separator=\"\\n\\n\",chunk_size=100,chunk_overlap=20)\n",
    "text_splitter.split_documents(docs) "
   ]
  }
 ],
 "metadata": {
  "kernelspec": {
   "display_name": "venv",
   "language": "python",
   "name": "python3"
  },
  "language_info": {
   "codemirror_mode": {
    "name": "ipython",
    "version": 3
   },
   "file_extension": ".py",
   "mimetype": "text/x-python",
   "name": "python",
   "nbconvert_exporter": "python",
   "pygments_lexer": "ipython3",
   "version": "3.11.4"
  }
 },
 "nbformat": 4,
 "nbformat_minor": 5
}
