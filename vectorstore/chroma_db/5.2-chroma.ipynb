{
 "cells": [
  {
   "cell_type": "markdown",
   "id": "c1c9b791",
   "metadata": {},
   "source": [
    "# ChromaDB\n",
    "\n",
    "[ChromaDB](https://www.trychroma.com/) is an open-source embedding database designed for building AI applications with large-scale vector search and retrieval. It is commonly used for storing and querying vector embeddings generated from text, images, or other data types, enabling efficient similarity search and retrieval-augmented generation (RAG) workflows.\n",
    "\n",
    "**Key Features:**\n",
    "- Fast and scalable vector search\n",
    "- Simple Python API\n",
    "- Integration with popular embedding models\n",
    "- Persistent and in-memory storage options\n",
    "\n",
    "**Typical Use Cases:**\n",
    "- Semantic search\n",
    "- Document retrieval\n",
    "- Recommendation systems\n",
    "- Retrieval-augmented generation (RAG) for LLMs\n",
    "\n",
    "**Example Workflow:**\n",
    "1. Generate embeddings for your data (e.g., using OpenAI, HuggingFace, etc.).\n",
    "2. Store embeddings in ChromaDB.\n",
    "3. Query ChromaDB to find similar items based on vector similarity.\n",
    "\n",
    "For more information, visit the [ChromaDB documentation](https://docs.trychroma.com/)."
   ]
  },
  {
   "cell_type": "code",
   "execution_count": 6,
   "id": "83927a63",
   "metadata": {},
   "outputs": [],
   "source": [
    "from langchain_chroma import Chroma\n",
    "from langchain_community.document_loaders import TextLoader\n",
    "from langchain_community.embeddings import OllamaEmbeddings\n",
    "from langchain_text_splitters import RecursiveCharacterTextSplitter\n"
   ]
  },
  {
   "cell_type": "code",
   "execution_count": 7,
   "id": "77ba83c9",
   "metadata": {},
   "outputs": [],
   "source": [
    "loader = TextLoader(\"speech.txt\")\n",
    "data = loader.load()\n",
    "data \n",
    "text_splitter = RecursiveCharacterTextSplitter(chunk_size=1000, chunk_overlap=200)\n",
    "texts = text_splitter.split_documents(data)\n"
   ]
  },
  {
   "cell_type": "code",
   "execution_count": 8,
   "id": "3ea3c592",
   "metadata": {},
   "outputs": [
    {
     "data": {
      "text/plain": [
       "<langchain_chroma.vectorstores.Chroma at 0x12562f0f650>"
      ]
     },
     "execution_count": 8,
     "metadata": {},
     "output_type": "execute_result"
    }
   ],
   "source": [
    "embedding = OllamaEmbeddings(model=\"gemma:2b\")\n",
    "vectorstore = Chroma.from_documents(documents=texts,embedding=embedding)\n",
    "vectorstore"
   ]
  },
  {
   "cell_type": "code",
   "execution_count": 9,
   "id": "0fc0674f",
   "metadata": {},
   "outputs": [],
   "source": [
    "query = \"What is the main topic of the speech?\"\n",
    "docs = vectorstore.similarity_search(query)\n",
    "splits=docs[0].page_content"
   ]
  },
  {
   "cell_type": "code",
   "execution_count": null,
   "id": "e49830c3",
   "metadata": {},
   "outputs": [],
   "source": [
    "# saving to disk\n",
    "db  = Chroma.from_documents(documents=texts, embedding=embedding,persist_directory=\"./chroma_db\")\n"
   ]
  },
  {
   "cell_type": "code",
   "execution_count": 12,
   "id": "968fdc40",
   "metadata": {},
   "outputs": [
    {
     "name": "stdout",
     "output_type": "stream",
     "text": [
      "In conclusion, space exploration is a testament to human curiosity and determination. It brings nations together, drives technological progress, and expands our understanding of the universe. The journey is far from over, and the next chapter promises even greater discoveries.\n"
     ]
    }
   ],
   "source": [
    "db2=Chroma(persist_directory=\"./chroma_db\", embedding_function=embedding)\n",
    "docs2 = db2.similarity_search(query)\n",
    "print(docs[0].page_content)"
   ]
  },
  {
   "cell_type": "code",
   "execution_count": 14,
   "id": "29210cef",
   "metadata": {},
   "outputs": [
    {
     "data": {
      "text/plain": [
       "[(Document(id='9f4d69e7-0290-4fe8-b54d-d513a7043398', metadata={'source': 'speech.txt'}, page_content='In conclusion, space exploration is a testament to human curiosity and determination. It brings nations together, drives technological progress, and expands our understanding of the universe. The journey is far from over, and the next chapter promises even greater discoveries.'),\n",
       "  2960.291748046875),\n",
       " (Document(id='eac50de6-1a20-44a1-bc0f-3fffb4601d0c', metadata={'source': 'speech.txt'}, page_content='In conclusion, space exploration is a testament to human curiosity and determination. It brings nations together, drives technological progress, and expands our understanding of the universe. The journey is far from over, and the next chapter promises even greater discoveries.'),\n",
       "  2960.291748046875),\n",
       " (Document(id='3daf5525-da98-4165-a4b8-0f8e94dcbb86', metadata={'source': 'speech.txt'}, page_content='The Hubble Space Telescope has provided breathtaking images of distant galaxies, nebulae, and star clusters. Its observations have helped scientists determine the age of the universe and study phenomena like black holes and supernovae.\\n\\nMars exploration has become a focal point in recent years. Rovers like Spirit, Opportunity, Curiosity, and Perseverance have traversed the Martian surface, analyzing rocks, searching for signs of past life, and testing new technologies for future missions.\\n\\nPrivate companies have also entered the space race. SpaceX, Blue Origin, and others are developing reusable rockets, aiming to reduce the cost of space travel and make it accessible to more people. The dream of colonizing other planets is slowly becoming a possibility.'),\n",
       "  2967.767578125),\n",
       " (Document(id='2128866d-dc00-4f11-a9ab-ae552651f98e', metadata={'source': 'speech.txt'}, page_content='The Hubble Space Telescope has provided breathtaking images of distant galaxies, nebulae, and star clusters. Its observations have helped scientists determine the age of the universe and study phenomena like black holes and supernovae.\\n\\nMars exploration has become a focal point in recent years. Rovers like Spirit, Opportunity, Curiosity, and Perseverance have traversed the Martian surface, analyzing rocks, searching for signs of past life, and testing new technologies for future missions.\\n\\nPrivate companies have also entered the space race. SpaceX, Blue Origin, and others are developing reusable rockets, aiming to reduce the cost of space travel and make it accessible to more people. The dream of colonizing other planets is slowly becoming a possibility.'),\n",
       "  2967.767578125)]"
      ]
     },
     "execution_count": 14,
     "metadata": {},
     "output_type": "execute_result"
    }
   ],
   "source": [
    "docs = vectorstore.similarity_search_with_score(query)\n",
    "docs"
   ]
  },
  {
   "cell_type": "code",
   "execution_count": null,
   "id": "ee7800b8",
   "metadata": {},
   "outputs": [
    {
     "data": {
      "text/plain": [
       "'In conclusion, space exploration is a testament to human curiosity and determination. It brings nations together, drives technological progress, and expands our understanding of the universe. The journey is far from over, and the next chapter promises even greater discoveries.'"
      ]
     },
     "execution_count": 16,
     "metadata": {},
     "output_type": "execute_result"
    },
    {
     "ename": "",
     "evalue": "",
     "output_type": "error",
     "traceback": [
      "\u001b[1;31mThe Kernel crashed while executing code in the current cell or a previous cell. \n",
      "\u001b[1;31mPlease review the code in the cell(s) to identify a possible cause of the failure. \n",
      "\u001b[1;31mClick <a href='https://aka.ms/vscodeJupyterKernelCrash'>here</a> for more info. \n",
      "\u001b[1;31mView Jupyter <a href='command:jupyter.viewOutput'>log</a> for further details."
     ]
    }
   ],
   "source": [
    "# Retrieving documents by vector\n",
    "retriever =db.as_retriever()\n",
    "retriever.invoke(query)[0].page_content"
   ]
  }
 ],
 "metadata": {
  "kernelspec": {
   "display_name": "venv",
   "language": "python",
   "name": "python3"
  },
  "language_info": {
   "codemirror_mode": {
    "name": "ipython",
    "version": 3
   },
   "file_extension": ".py",
   "mimetype": "text/x-python",
   "name": "python",
   "nbconvert_exporter": "python",
   "pygments_lexer": "ipython3",
   "version": "3.11.4"
  }
 },
 "nbformat": 4,
 "nbformat_minor": 5
}
